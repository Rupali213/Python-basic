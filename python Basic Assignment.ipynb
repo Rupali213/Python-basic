{
 "cells": [
  {
   "cell_type": "markdown",
   "id": "c0afabd9-d4ff-46e3-8df0-fd75dd76bf9a",
   "metadata": {},
   "source": [
    "### Explain the key features of Python that make it a popular choice for programing"
   ]
  },
  {
   "cell_type": "code",
   "execution_count": null,
   "id": "1ca3146d-19ca-4ec1-aba1-ea885d3c0fef",
   "metadata": {},
   "outputs": [],
   "source": [
    "key features of python that make it popular choice are:\n",
    "1.Easy to understand\n",
    "2.extensive libraries\n",
    "3.similar like english language\n",
    "4.platform independent\n"
   ]
  },
  {
   "cell_type": "markdown",
   "id": "aad8577b-c88e-4e5e-b7ef-0aabaadb81b8",
   "metadata": {},
   "source": [
    "### Describe the role of predefined keywods in Python and provide examples of how they are used in a programe"
   ]
  },
  {
   "cell_type": "code",
   "execution_count": 3,
   "id": "1b090a8b-704f-49c3-aaa5-cf5189c4eea8",
   "metadata": {},
   "outputs": [
    {
     "name": "stdout",
     "output_type": "stream",
     "text": [
      "rupali\n",
      "rupali\n",
      "rupali\n"
     ]
    }
   ],
   "source": [
    "#predefined keywords are reserved word with special meaning in python that takes argument and give output \n",
    "#to print i have to use keyword \"print\" instead of writing any code\n",
    "\n",
    "for i in range(3):\n",
    "    print(\"rupali\") #keyword>>print\n"
   ]
  },
  {
   "cell_type": "code",
   "execution_count": 4,
   "id": "394e0959-dc84-450b-a2e9-c56a9bfea6a1",
   "metadata": {},
   "outputs": [
    {
     "name": "stdout",
     "output_type": "stream",
     "text": [
      "hello\n"
     ]
    }
   ],
   "source": [
    "a=5\n",
    "if a>4 and a<7:\n",
    "    print(\"hello\") #keyword>> and , print"
   ]
  },
  {
   "cell_type": "markdown",
   "id": "3457c762-c6bd-44ca-925f-cc12e82c79a7",
   "metadata": {},
   "source": [
    "###  Compare and contrast mutable and immutable objects in Python with examples"
   ]
  },
  {
   "cell_type": "code",
   "execution_count": null,
   "id": "81500878-8f7f-4907-9732-d79b68cfb19c",
   "metadata": {},
   "outputs": [],
   "source": [
    "mutable objects >> list,dictionary,set\n",
    "immutable objects>> int,string,tuple\n",
    "Mutable objects can be modifed once created, we can use slicing and can extract desirable object  and add some value inside it \n",
    "that we can't do with immutable objects."
   ]
  },
  {
   "cell_type": "markdown",
   "id": "65cecda2-feab-49f1-a085-dca982b0e712",
   "metadata": {},
   "source": [
    "### Discuss the different types of operators in Python and provide examples of how they are used"
   ]
  },
  {
   "cell_type": "code",
   "execution_count": null,
   "id": "c655b2ae-de82-489f-a00c-0456c229986a",
   "metadata": {},
   "outputs": [],
   "source": [
    "Opeartors in python are arithematic operator, comparision operator, assignment operator,logical operator, bitwise operator,membership operator \n",
    "identity operators"
   ]
  },
  {
   "cell_type": "code",
   "execution_count": null,
   "id": "08dc161e-8c3d-43bd-8bf8-9b72a4df21df",
   "metadata": {},
   "outputs": [],
   "source": [
    "arithematic operator>>this operator does mathematical calculation(additon,substraction,multiplication,division,floor division,exponential)\n",
    "comparision operator>>this operator use to compare between two operators\n",
    "assignment operator>>this operator use to assign value to variable\n",
    "logical operator>>and or not are logical operator\n",
    "bitwise operator>>Bitwise operators perform operations on bits of binary numbers.\n",
    "membership operator>>membership operator check if sequence present in an object using in or not in\n",
    "identity operator>>identity operator compare memory location of two objects using is or not is\n"
   ]
  },
  {
   "cell_type": "code",
   "execution_count": 5,
   "id": "2cbf0549-ac73-4329-a881-e58cd9bef42b",
   "metadata": {},
   "outputs": [
    {
     "data": {
      "text/plain": [
       "7"
      ]
     },
     "execution_count": 5,
     "metadata": {},
     "output_type": "execute_result"
    }
   ],
   "source": [
    "a=3\n",
    "b=4\n",
    "a+b  #arithematic operator"
   ]
  },
  {
   "cell_type": "code",
   "execution_count": 6,
   "id": "c9049f4c-fac2-48d9-bf6b-3197c56b4d22",
   "metadata": {},
   "outputs": [
    {
     "name": "stdout",
     "output_type": "stream",
     "text": [
      "mango\n"
     ]
    }
   ],
   "source": [
    "if a>b:\n",
    "    print(\"apple\")\n",
    "else:\n",
    "    print(\"mango\") #comparision operator"
   ]
  },
  {
   "cell_type": "code",
   "execution_count": 7,
   "id": "0657f374-fad7-47cb-8350-68c251bf339c",
   "metadata": {},
   "outputs": [
    {
     "data": {
      "text/plain": [
       "False"
      ]
     },
     "execution_count": 7,
     "metadata": {},
     "output_type": "execute_result"
    }
   ],
   "source": [
    "a==b"
   ]
  },
  {
   "cell_type": "markdown",
   "id": "7942fad8-63cf-4b20-b575-818a5f4f8a57",
   "metadata": {},
   "source": [
    "### Explain the concept of type casting in Python with examples"
   ]
  },
  {
   "cell_type": "code",
   "execution_count": 9,
   "id": "659446b0-4130-4f06-bcbd-b89c8cce09f8",
   "metadata": {},
   "outputs": [
    {
     "data": {
      "text/plain": [
       "1234"
      ]
     },
     "execution_count": 9,
     "metadata": {},
     "output_type": "execute_result"
    }
   ],
   "source": [
    "#type casting refers to conversion of one data to another\n",
    "a=\"1234\"\n",
    "b=int(a)\n",
    "b"
   ]
  },
  {
   "cell_type": "markdown",
   "id": "90ec7565-719f-44fb-88fd-e5df152342f5",
   "metadata": {},
   "source": [
    "### How do conditional statements wo$k in Python? Illustate with examples"
   ]
  },
  {
   "cell_type": "code",
   "execution_count": 10,
   "id": "5a0cb3da-8536-4134-baa1-c4a5a8afe6ea",
   "metadata": {},
   "outputs": [
    {
     "name": "stdout",
     "output_type": "stream",
     "text": [
      "positive\n"
     ]
    }
   ],
   "source": [
    "num=56\n",
    "if num>0:\n",
    "    print(\"positive\")\n",
    "elif num<0:\n",
    "    print(\"negative\")\n",
    "else:\n",
    "    print(\"zero\")"
   ]
  },
  {
   "cell_type": "markdown",
   "id": "c8d275c1-08bb-407f-9449-1f8d193aacb6",
   "metadata": {},
   "source": [
    "### Describe the different types of loops in Python and their use cases with examples"
   ]
  },
  {
   "cell_type": "code",
   "execution_count": 11,
   "id": "62449054-ae16-43b3-911d-7101389f4583",
   "metadata": {},
   "outputs": [
    {
     "name": "stdout",
     "output_type": "stream",
     "text": [
      "0\n",
      "1\n",
      "2\n",
      "3\n",
      "4\n"
     ]
    }
   ],
   "source": [
    "#There are three types of loops for loop and while loop and nested loops\n",
    "for i in range(5):\n",
    "    print(i)\n"
   ]
  },
  {
   "cell_type": "code",
   "execution_count": 1,
   "id": "711ec866-6197-4b33-919c-273fc24dbcb7",
   "metadata": {},
   "outputs": [
    {
     "name": "stdout",
     "output_type": "stream",
     "text": [
      "1\n",
      "2\n",
      "3\n",
      "4\n",
      "5\n"
     ]
    }
   ],
   "source": [
    "sum = 5\n",
    "count = 0\n",
    "while sum >= 1:\n",
    "    count += 1\n",
    "    sum -= 1\n",
    "    print(count)\n"
   ]
  },
  {
   "cell_type": "code",
   "execution_count": 3,
   "id": "a605bfff-2c4d-4c07-b774-e802877dc2f1",
   "metadata": {},
   "outputs": [
    {
     "name": "stdout",
     "output_type": "stream",
     "text": [
      "2\n",
      "3\n",
      "4\n",
      "4\n",
      "5\n"
     ]
    }
   ],
   "source": [
    "for i in range (1,6):\n",
    "    for j in range(1,i):\n",
    "        if i%j==0:\n",
    "            print(i)        "
   ]
  },
  {
   "cell_type": "code",
   "execution_count": null,
   "id": "b156541a-8463-4c2d-bf8f-d6bae19322b3",
   "metadata": {},
   "outputs": [],
   "source": []
  }
 ],
 "metadata": {
  "kernelspec": {
   "display_name": "Python 3 (ipykernel)",
   "language": "python",
   "name": "python3"
  },
  "language_info": {
   "codemirror_mode": {
    "name": "ipython",
    "version": 3
   },
   "file_extension": ".py",
   "mimetype": "text/x-python",
   "name": "python",
   "nbconvert_exporter": "python",
   "pygments_lexer": "ipython3",
   "version": "3.12.3"
  }
 },
 "nbformat": 4,
 "nbformat_minor": 5
}
